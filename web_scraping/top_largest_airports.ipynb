{
 "cells": [
  {
   "cell_type": "code",
   "execution_count": 4,
   "metadata": {
    "collapsed": true
   },
   "outputs": [],
   "source": [
    "def top_5_largest(fname):\n",
    "    import pandas as pd\n",
    "    import heapq\n",
    "    result  = []\n",
    "    flightInfo = pd.read_csv(fname)\n",
    "    origin = flightInfo['ORIGIN'].values\n",
    "    dest = flightInfo['DEST'].values\n",
    "    map = {}\n",
    "    for i in range(len(origin)):\n",
    "        if origin[i] not in map:\n",
    "            map[origin[i]] = 1\n",
    "        else:\n",
    "            map[origin[i]] += 1\n",
    "        if dest[i] not in map:\n",
    "            map[dest[i]] = 1\n",
    "        else:\n",
    "            map[dest[i]] += 1\n",
    "    return heapq.nlargest(5, map, key=map.get)"
   ]
  },
  {
   "cell_type": "code",
   "execution_count": 1,
   "metadata": {},
   "outputs": [
    {
     "data": {
      "text/plain": [
       "u'/Users/supersu/Desktop/Graduate School/winter2018/ECE180/final project/ECE180-Team-15-Final-Project/web_scraping'"
      ]
     },
     "execution_count": 1,
     "metadata": {},
     "output_type": "execute_result"
    }
   ],
   "source": [
    "pwd"
   ]
  },
  {
   "cell_type": "code",
   "execution_count": 2,
   "metadata": {},
   "outputs": [
    {
     "name": "stdout",
     "output_type": "stream",
     "text": [
      "\u001b[34m2012 ATL\u001b[m\u001b[m/                   \u001b[34m2017 DFW\u001b[m\u001b[m/\r\n",
      "2012_01_ONTIME.csv          \u001b[34m2017 LAX\u001b[m\u001b[m/\r\n",
      "\u001b[34m2013 ATL\u001b[m\u001b[m/                   \u001b[34m2017 ORD\u001b[m\u001b[m/\r\n",
      "\u001b[34m2014 ATL\u001b[m\u001b[m/                   top_largest_airports.ipynb\r\n",
      "\u001b[34m2015 ATL\u001b[m\u001b[m/                   weather_2011227.csv\r\n",
      "\u001b[34m2016 ATL\u001b[m\u001b[m/                   web_scrape.ipynb\r\n",
      "\u001b[34m2017 ATL\u001b[m\u001b[m/                   wunder-data-2011\r\n"
     ]
    }
   ],
   "source": [
    "ls"
   ]
  },
  {
   "cell_type": "code",
   "execution_count": 3,
   "metadata": {},
   "outputs": [
    {
     "name": "stdout",
     "output_type": "stream",
     "text": [
      "\u001b[34m2012 ATL\u001b[m\u001b[m/                   \u001b[34m2017 LAX\u001b[m\u001b[m/\r\n",
      "2012_01_ONTIME.csv          \u001b[34m2017 ORD\u001b[m\u001b[m/\r\n",
      "\u001b[34m2013 ATL\u001b[m\u001b[m/                   2017_01_ONTIME.csv\r\n",
      "\u001b[34m2014 ATL\u001b[m\u001b[m/                   top_largest_airports.ipynb\r\n",
      "\u001b[34m2015 ATL\u001b[m\u001b[m/                   weather_2011227.csv\r\n",
      "\u001b[34m2016 ATL\u001b[m\u001b[m/                   web_scrape.ipynb\r\n",
      "\u001b[34m2017 ATL\u001b[m\u001b[m/                   wunder-data-2011\r\n",
      "\u001b[34m2017 DFW\u001b[m\u001b[m/\r\n"
     ]
    }
   ],
   "source": [
    "ls"
   ]
  },
  {
   "cell_type": "code",
   "execution_count": null,
   "metadata": {
    "collapsed": true
   },
   "outputs": [],
   "source": [
    "top_5_largest(2017)"
   ]
  }
 ],
 "metadata": {
  "kernelspec": {
   "display_name": "Python 2",
   "language": "python",
   "name": "python2"
  },
  "language_info": {
   "codemirror_mode": {
    "name": "ipython",
    "version": 2
   },
   "file_extension": ".py",
   "mimetype": "text/x-python",
   "name": "python",
   "nbconvert_exporter": "python",
   "pygments_lexer": "ipython2",
   "version": "2.7.14"
  }
 },
 "nbformat": 4,
 "nbformat_minor": 2
}
