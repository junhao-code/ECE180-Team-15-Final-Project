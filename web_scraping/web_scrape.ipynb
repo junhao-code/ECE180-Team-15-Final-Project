{
 "cells": [
  {
   "cell_type": "code",
   "execution_count": 121,
   "metadata": {},
   "outputs": [
    {
     "name": "stdout",
     "output_type": "stream",
     "text": [
      "Getting data for 2011-2-27\n"
     ]
    },
    {
     "ename": "UnicodeEncodeError",
     "evalue": "'ascii' codec can't encode characters in position 5-6: ordinal not in range(128)",
     "output_type": "error",
     "traceback": [
      "\u001b[0;31m---------------------------------------------------------------------------\u001b[0m",
      "\u001b[0;31mUnicodeEncodeError\u001b[0m                        Traceback (most recent call last)",
      "\u001b[0;32m<ipython-input-121-6815f2466f6c>\u001b[0m in \u001b[0;36m<module>\u001b[0;34m()\u001b[0m\n\u001b[1;32m     39\u001b[0m     \u001b[0;32mfor\u001b[0m \u001b[0mval\u001b[0m \u001b[0;32min\u001b[0m \u001b[0mrow\u001b[0m\u001b[0;34m.\u001b[0m\u001b[0mfind_all\u001b[0m\u001b[0;34m(\u001b[0m\u001b[0;34m'td'\u001b[0m\u001b[0;34m)\u001b[0m\u001b[0;34m:\u001b[0m\u001b[0;34m\u001b[0m\u001b[0m\n\u001b[1;32m     40\u001b[0m \u001b[0;31m#         print 'val type is' + str(type(val.text))\u001b[0m\u001b[0;34m\u001b[0m\u001b[0;34m\u001b[0m\u001b[0m\n\u001b[0;32m---> 41\u001b[0;31m         \u001b[0mstr\u001b[0m\u001b[0;34m(\u001b[0m\u001b[0mval\u001b[0m\u001b[0;34m.\u001b[0m\u001b[0mtext\u001b[0m\u001b[0;34m)\u001b[0m\u001b[0;34m.\u001b[0m\u001b[0mreplace\u001b[0m\u001b[0;34m(\u001b[0m\u001b[0;34m\"\\xc2\\xa0\"\u001b[0m\u001b[0;34m,\u001b[0m\u001b[0;34m\"\"\u001b[0m\u001b[0;34m)\u001b[0m\u001b[0;34m\u001b[0m\u001b[0m\n\u001b[0m\u001b[1;32m     42\u001b[0m \u001b[0;31m#         text = val.decode(\"UTF-8\")\u001b[0m\u001b[0;34m\u001b[0m\u001b[0;34m\u001b[0m\u001b[0m\n\u001b[1;32m     43\u001b[0m \u001b[0;31m#         print text\u001b[0m\u001b[0;34m\u001b[0m\u001b[0;34m\u001b[0m\u001b[0m\n",
      "\u001b[0;31mUnicodeEncodeError\u001b[0m: 'ascii' codec can't encode characters in position 5-6: ordinal not in range(128)"
     ]
    }
   ],
   "source": [
    "import urllib2\n",
    "from bs4 import BeautifulSoup\n",
    "import csv\n",
    "# What year?\n",
    "year = 2011\n",
    "\n",
    "# Create/open a file called wunder.txt\n",
    "f = open('/Users/supersu/Desktop/wunder-data-' + str(year), 'w')\n",
    "f.write('datestamp,tmean,tmax,tmin,precip,dewpoint\\n')\n",
    "\n",
    "# Iterate through months and days\n",
    "# for m in range(1, 13):\n",
    "#     for d in range(1, 32):\n",
    "\n",
    "#         # Check if already gone through month\n",
    "#         if (m == 2 and d > 28):\n",
    "#             break\n",
    "#         elif (m in [4, 6, 9, 11] and d > 30):\n",
    "#             break\n",
    "m = 2\n",
    "d = 27\n",
    "# Open wunderground.com url\n",
    "datestamp = str(year) + '-' + str(m) + '-' + str(d)\n",
    "print 'Getting data for ' + datestamp\n",
    "#         url = 'http://www.wunderground.com/history/airport/KNYC/' + str(year) + '/' + str(m) + '/' + str(d) + '/DailyHistory.html'\n",
    "url = 'http://www.wunderground.com/history/airport/KNYC/' + str(year) + '/' + str(m) + '/' + str(d) + '/DailyHistory.html'\n",
    "page = urllib2.urlopen(url)\n",
    "\n",
    "# Get  table\n",
    "soup = BeautifulSoup(page, \"lxml\")\n",
    "table = soup.find_all('table', attrs={'class' : \"obs-table\"})\n",
    "# print table\n",
    "headers = [header.text for header in table[0].find_all('th')]\n",
    "# print headers\n",
    "rows = []\n",
    "for row in table[0].find_all('tr'):\n",
    "    cur = []\n",
    "#     print type(row)\n",
    "    for val in row.find_all('td'):\n",
    "#         print 'val type is' + str(type(val.text))\n",
    "        str(val.text).replace(\"\\xc2\\xa0\",\"\")\n",
    "#         text = val.decode(\"UTF-8\")\n",
    "#         print text\n",
    "#         text.replace(\"\\xc2\\xa0\", \" \")\n",
    "        cur.append(val.text.encode(\"UTF-8\"))\n",
    "    rows.append(cur)\n",
    "print rows\n",
    "    \n",
    "with open(\"out4.csv\", \"w\") as f:\n",
    "    wr = csv.writer(f)\n",
    "    wr.writerow(headers)\n",
    "    wr.writerows([[td.text.encode(\"UTF-8\") for td in row.find_all(\"td\")] for row in table[0].select(\"tr + tr\")])\n",
    "\n",
    "# spans = table[0].find_all(attrs={'class':'nobr'})\n",
    "# print spans\n",
    "\n",
    "#         # Get mean temperatures from page\n",
    "#         tmean = spans[0].span.string\n",
    "#         tmax = spans[2].span.string\n",
    "#         tmin = spans[5].span.string\n",
    "\n",
    "#         #Get precip from page\n",
    "#         precip = spans[9].span.string\n",
    "\n",
    "#         #Get dewpoint from page\n",
    "#         dewpoint = spans[8].span.string\n",
    " \n",
    "#         # Format month for datestamp\n",
    "#         if len(str(m)) < 2:\n",
    "#             mStamp = '0' + str(m)\n",
    "#         else:\n",
    "#             mStamp = str(m)\n",
    "\n",
    "#         # Format day for datestamp\n",
    "#         if len(str(d)) < 2:\n",
    "#             dStamp = '0' + str(d)\n",
    "#         else:\n",
    "#             dStamp = str(d)\n",
    "\n",
    "#         # Build timestamp\n",
    "#         datestamp = str(year) + mStamp + dStamp\n",
    "\n",
    "#         # Write timestamp and temperature to file\n",
    "#         print tmean + ':' + tmax + ':' + tmax + ':' + precip + ':' + dewpoint\n",
    "#         f.write(datestamp + ',' + tmean + ',' + tmax + ',' + tmin + ',' + precip + ',' + dewpoint + '\\n')\n",
    "\n",
    "# Done getting data! Close file.\n",
    "f.close()"
   ]
  },
  {
   "cell_type": "code",
   "execution_count": null,
   "metadata": {},
   "outputs": [],
   "source": []
  },
  {
   "cell_type": "code",
   "execution_count": null,
   "metadata": {
    "collapsed": true
   },
   "outputs": [],
   "source": []
  }
 ],
 "metadata": {
  "kernelspec": {
   "display_name": "Python 2",
   "language": "python",
   "name": "python2"
  },
  "language_info": {
   "codemirror_mode": {
    "name": "ipython",
    "version": 2
   },
   "file_extension": ".py",
   "mimetype": "text/x-python",
   "name": "python",
   "nbconvert_exporter": "python",
   "pygments_lexer": "ipython2",
   "version": "2.7.14"
  }
 },
 "nbformat": 4,
 "nbformat_minor": 2
}
