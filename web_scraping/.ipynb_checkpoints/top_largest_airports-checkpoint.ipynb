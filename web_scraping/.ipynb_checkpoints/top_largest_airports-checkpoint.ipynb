{
 "cells": [
  {
   "cell_type": "code",
   "execution_count": 1,
   "metadata": {
    "collapsed": true
   },
   "outputs": [],
   "source": [
    "def top_5_largest(fname):\n",
    "    import pandas as pd\n",
    "    import heapq\n",
    "    result  = []\n",
    "    flightInfo = pd.read_csv(fname)\n",
    "    origin = flightInfo['ORIGIN'].values\n",
    "    dest = flightInfo['DEST'].values\n",
    "    map = {}\n",
    "    for i in range(len(origin)):\n",
    "        if origin[i] not in map:\n",
    "            map[origin[i]] = 1\n",
    "        else:\n",
    "            map[origin[i]] += 1\n",
    "    for j in range(len(dest)):\n",
    "        if dest[i] not in map:\n",
    "            map[dest[i]] = 1\n",
    "        else:\n",
    "            map[dest[i]] += 1\n",
    "    return heapq.nlargest(5, map, key=map.get)"
   ]
  },
  {
   "cell_type": "code",
   "execution_count": null,
   "metadata": {
    "collapsed": true
   },
   "outputs": [],
   "source": []
  }
 ],
 "metadata": {
  "kernelspec": {
   "display_name": "Python 2",
   "language": "python",
   "name": "python2"
  },
  "language_info": {
   "codemirror_mode": {
    "name": "ipython",
    "version": 2
   },
   "file_extension": ".py",
   "mimetype": "text/x-python",
   "name": "python",
   "nbconvert_exporter": "python",
   "pygments_lexer": "ipython2",
   "version": "2.7.14"
  }
 },
 "nbformat": 4,
 "nbformat_minor": 2
}
